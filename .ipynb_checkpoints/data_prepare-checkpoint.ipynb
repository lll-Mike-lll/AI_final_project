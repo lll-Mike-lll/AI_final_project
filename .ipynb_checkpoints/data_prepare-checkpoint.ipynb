{
 "cells": [
  {
   "cell_type": "code",
   "execution_count": 1,
   "metadata": {
    "id": "MF1mUCE_u243"
   },
   "outputs": [],
   "source": [
    "import random\n",
    "import matplotlib.pyplot as plt\n",
    "import pandas as pd\n",
    "from sklearn import preprocessing"
   ]
  },
  {
   "cell_type": "code",
   "execution_count": 2,
   "metadata": {
    "id": "fEf7qiWCvbXJ"
   },
   "outputs": [],
   "source": [
    "def linear_f(x1,x2,y1,y2):\n",
    "  yi = (y2-y1)/(x2-x1)*x2\n",
    "  c = y2-yi\n",
    "  return [(y2-y1)/(x2-x1),c]\n",
    "\n",
    "def linear_f2(x,m,c):\n",
    "  return m*x+c\n",
    "\n",
    "def create_data_gen3(rpm1,rpm2,fu1,fu2,pw1,pw2,tor1,tor2,n):\n",
    "  result = []\n",
    "  randomlist = []\n",
    "  for i in range(250):\n",
    "    randomlist.append(round(rpm1+(rpm2-rpm1)*(random.random()),3))\n",
    "  compo1 = linear_f(rpm1,rpm2,fu1,fu2)\n",
    "  compo2 = linear_f(rpm1,rpm2,pw1,pw2)\n",
    "  compo3 = linear_f(rpm1,rpm2,tor1,tor2)\n",
    "  for i in randomlist:\n",
    "    result.append([i,round(linear_f2(i,compo1[0],compo1[1]),4),round(linear_f2(i,compo2[0],compo2[1]),4),round(linear_f2(i,compo3[0],compo3[1]),4)])\n",
    "  return result\n",
    "\n",
    "\n",
    "def loop_generate_data_gen2(data_ls,n):\n",
    "  all_ls = []\n",
    "  for i in range(len(data_ls)-1):\n",
    "    ls = create_data_gen3(data_ls[i][0],data_ls[i+1][0]\n",
    "                          ,data_ls[i][1],data_ls[i+1][1]\n",
    "                          ,data_ls[i][2],data_ls[i+1][2]\n",
    "                          ,data_ls[i][3],data_ls[i+1][3],n)\n",
    "    all_ls.extend(ls)\n",
    "  return all_ls"
   ]
  },
  {
   "cell_type": "code",
   "execution_count": 3,
   "metadata": {
    "id": "PqubCSiEvHJ9"
   },
   "outputs": [],
   "source": [
    "unit = ['rpm', 'kW' ,'hp' ,'N·M' ,'lb-ft' ,'g/kWh' ,'lb/hp-hr']\n",
    "col = ['rpm','power_kw','power_hp','torque_Nm','torque_lb','fuel_g','fuel_lb']\n",
    "value = [[2400, 55, 74, 219, 162, 262, 0.430],\n",
    "[2200, 56, 75, 244, 180, 247, 0.405],\n",
    "[2000, 54, 72, 258, 190, 242, 0.397],\n",
    "[1800, 50, 67, 264, 195, 241, 0.395],\n",
    "[1700, 47, 63, 265, 195, 241, 0.395],\n",
    "[1600, 44, 59, 264, 195, 242, 0.397],\n",
    "[1400, 38, 51, 258, 190, 243, 0.399],\n",
    "[1200, 32, 43, 252, 186, 244, 0.400],\n",
    "[1000, 26, 35, 245, 181, 246, 0.403]]"
   ]
  },
  {
   "cell_type": "code",
   "execution_count": 4,
   "metadata": {
    "id": "b7J-F44mvSdO"
   },
   "outputs": [],
   "source": [
    "a = []\n",
    "for i in value:\n",
    "  a.append([i[0],i[6],i[2],i[4]])\n",
    "\n",
    "b = a[::-1]"
   ]
  },
  {
   "cell_type": "code",
   "execution_count": 5,
   "metadata": {
    "id": "rHDp8yxgmy55"
   },
   "outputs": [],
   "source": [
    "a2 = []\n",
    "for i in value:\n",
    "  a2.append([i[0],i[5],i[1],i[3]])\n",
    "\n",
    "b2 = a2[::-1]"
   ]
  },
  {
   "cell_type": "code",
   "execution_count": 6,
   "metadata": {
    "id": "2jn3TIBUvSpj"
   },
   "outputs": [],
   "source": [
    "data_final = loop_generate_data_gen2(b,100)"
   ]
  },
  {
   "cell_type": "code",
   "execution_count": 7,
   "metadata": {
    "id": "3Oa3gwhem3Q3"
   },
   "outputs": [],
   "source": [
    "data_final2 = loop_generate_data_gen2(b2,100)"
   ]
  },
  {
   "cell_type": "code",
   "execution_count": 8,
   "metadata": {
    "colab": {
     "base_uri": "https://localhost:8080/"
    },
    "id": "hb_AYD9hvidO",
    "outputId": "1905cce7-cbaa-415f-92d6-1fc17d218fc9"
   },
   "outputs": [
    {
     "data": {
      "text/plain": [
       "(2000, 4)"
      ]
     },
     "execution_count": 8,
     "metadata": {},
     "output_type": "execute_result"
    }
   ],
   "source": [
    "df = pd.DataFrame(data_final,columns=['rpm','fuel','power','torque'])\n",
    "df.shape"
   ]
  },
  {
   "cell_type": "code",
   "execution_count": 9,
   "metadata": {
    "colab": {
     "base_uri": "https://localhost:8080/"
    },
    "id": "mCCdQd_VnDyx",
    "outputId": "913ac4b8-7da9-46b6-e9f4-51b19a767cd8"
   },
   "outputs": [
    {
     "data": {
      "text/plain": [
       "(2000, 4)"
      ]
     },
     "execution_count": 9,
     "metadata": {},
     "output_type": "execute_result"
    }
   ],
   "source": [
    "df2 = pd.DataFrame(data_final2,columns=['rpm','fuel','power','torque'])\n",
    "df2.shape"
   ]
  },
  {
   "cell_type": "code",
   "execution_count": 10,
   "metadata": {
    "colab": {
     "base_uri": "https://localhost:8080/",
     "height": 265
    },
    "id": "LZ7bNtKkvz2R",
    "outputId": "8b518e21-41dc-41ce-d1ef-8f123a679b77"
   },
   "outputs": [
    {
     "data": {
      "image/png": "[encoded data removed]",
      "text/plain": [
       "<Figure size 432x288 with 1 Axes>"
      ]
     },
     "metadata": {
      "needs_background": "light"
     },
     "output_type": "display_data"
    }
   ],
   "source": [
    "plt.scatter(df['rpm'], df['fuel'])\n",
    "plt.show()"
   ]
  },
  {
   "cell_type": "code",
   "execution_count": 11,
   "metadata": {
    "colab": {
     "base_uri": "https://localhost:8080/",
     "height": 265
    },
    "id": "BWXNdZjjv1fN",
    "outputId": "afb920ee-e1ad-41aa-b376-24d24aad769c"
   },
   "outputs": [
    {
     "data": {
      "image/png": "[encoded data removed]",
      "text/plain": [
       "<Figure size 432x288 with 1 Axes>"
      ]
     },
     "metadata": {
      "needs_background": "light"
     },
     "output_type": "display_data"
    }
   ],
   "source": [
    "plt.scatter(df['rpm'], df['power'])\n",
    "plt.show()"
   ]
  },
  {
   "cell_type": "code",
   "execution_count": 12,
   "metadata": {
    "colab": {
     "base_uri": "https://localhost:8080/",
     "height": 265
    },
    "id": "BLHO9K3nv50a",
    "outputId": "527bbf83-9597-4824-f472-393640a34579"
   },
   "outputs": [
    {
     "data": {
      "image/png": "[encoded data removed]",
      "text/plain": [
       "<Figure size 432x288 with 1 Axes>"
      ]
     },
     "metadata": {
      "needs_background": "light"
     },
     "output_type": "display_data"
    }
   ],
   "source": [
    "plt.scatter(df['rpm'], df['torque'])\n",
    "plt.show()"
   ]
  },
  {
   "cell_type": "code",
   "execution_count": 13,
   "metadata": {
    "colab": {
     "base_uri": "https://localhost:8080/",
     "height": 662
    },
    "id": "efm6M5zZv7aG",
    "outputId": "a54c1f78-988a-4491-afe8-984d1d482e5a"
   },
   "outputs": [
    {
     "data": {
      "text/html": [
       "<div>\n",
       "<style scoped>\n",
       "    .dataframe tbody tr th:only-of-type {\n",
       "        vertical-align: middle;\n",
       "    }\n",
       "\n",
       "    .dataframe tbody tr th {\n",
       "        vertical-align: top;\n",
       "    }\n",
       "\n",
       "    .dataframe thead th {\n",
       "        text-align: right;\n",
       "    }\n",
       "</style>\n",
       "<table border=\"1\" class=\"dataframe\">\n",
       "  <thead>\n",
       "    <tr style=\"text-align: right;\">\n",
       "      <th></th>\n",
       "      <th>rpm</th>\n",
       "      <th>fuel</th>\n",
       "      <th>power</th>\n",
       "      <th>torque</th>\n",
       "    </tr>\n",
       "  </thead>\n",
       "  <tbody>\n",
       "    <tr>\n",
       "      <th>0</th>\n",
       "      <td>1118.947</td>\n",
       "      <td>0.4012</td>\n",
       "      <td>39.7579</td>\n",
       "      <td>183.9737</td>\n",
       "    </tr>\n",
       "    <tr>\n",
       "      <th>1</th>\n",
       "      <td>1186.295</td>\n",
       "      <td>0.4002</td>\n",
       "      <td>42.4518</td>\n",
       "      <td>185.6574</td>\n",
       "    </tr>\n",
       "    <tr>\n",
       "      <th>2</th>\n",
       "      <td>1112.972</td>\n",
       "      <td>0.4013</td>\n",
       "      <td>39.5189</td>\n",
       "      <td>183.8243</td>\n",
       "    </tr>\n",
       "    <tr>\n",
       "      <th>3</th>\n",
       "      <td>1066.492</td>\n",
       "      <td>0.4020</td>\n",
       "      <td>37.6597</td>\n",
       "      <td>182.6623</td>\n",
       "    </tr>\n",
       "    <tr>\n",
       "      <th>4</th>\n",
       "      <td>1025.479</td>\n",
       "      <td>0.4026</td>\n",
       "      <td>36.0192</td>\n",
       "      <td>181.6370</td>\n",
       "    </tr>\n",
       "    <tr>\n",
       "      <th>5</th>\n",
       "      <td>1101.402</td>\n",
       "      <td>0.4015</td>\n",
       "      <td>39.0561</td>\n",
       "      <td>183.5351</td>\n",
       "    </tr>\n",
       "    <tr>\n",
       "      <th>6</th>\n",
       "      <td>1197.919</td>\n",
       "      <td>0.4000</td>\n",
       "      <td>42.9168</td>\n",
       "      <td>185.9480</td>\n",
       "    </tr>\n",
       "    <tr>\n",
       "      <th>7</th>\n",
       "      <td>1127.092</td>\n",
       "      <td>0.4011</td>\n",
       "      <td>40.0837</td>\n",
       "      <td>184.1773</td>\n",
       "    </tr>\n",
       "    <tr>\n",
       "      <th>8</th>\n",
       "      <td>1158.589</td>\n",
       "      <td>0.4006</td>\n",
       "      <td>41.3436</td>\n",
       "      <td>184.9647</td>\n",
       "    </tr>\n",
       "    <tr>\n",
       "      <th>9</th>\n",
       "      <td>1008.692</td>\n",
       "      <td>0.4029</td>\n",
       "      <td>35.3477</td>\n",
       "      <td>181.2173</td>\n",
       "    </tr>\n",
       "    <tr>\n",
       "      <th>10</th>\n",
       "      <td>1099.262</td>\n",
       "      <td>0.4015</td>\n",
       "      <td>38.9705</td>\n",
       "      <td>183.4815</td>\n",
       "    </tr>\n",
       "    <tr>\n",
       "      <th>11</th>\n",
       "      <td>1167.871</td>\n",
       "      <td>0.4005</td>\n",
       "      <td>41.7148</td>\n",
       "      <td>185.1968</td>\n",
       "    </tr>\n",
       "    <tr>\n",
       "      <th>12</th>\n",
       "      <td>1170.576</td>\n",
       "      <td>0.4004</td>\n",
       "      <td>41.8230</td>\n",
       "      <td>185.2644</td>\n",
       "    </tr>\n",
       "    <tr>\n",
       "      <th>13</th>\n",
       "      <td>1083.049</td>\n",
       "      <td>0.4018</td>\n",
       "      <td>38.3220</td>\n",
       "      <td>183.0762</td>\n",
       "    </tr>\n",
       "    <tr>\n",
       "      <th>14</th>\n",
       "      <td>1077.856</td>\n",
       "      <td>0.4018</td>\n",
       "      <td>38.1142</td>\n",
       "      <td>182.9464</td>\n",
       "    </tr>\n",
       "    <tr>\n",
       "      <th>15</th>\n",
       "      <td>1021.884</td>\n",
       "      <td>0.4027</td>\n",
       "      <td>35.8754</td>\n",
       "      <td>181.5471</td>\n",
       "    </tr>\n",
       "    <tr>\n",
       "      <th>16</th>\n",
       "      <td>1085.375</td>\n",
       "      <td>0.4017</td>\n",
       "      <td>38.4150</td>\n",
       "      <td>183.1344</td>\n",
       "    </tr>\n",
       "    <tr>\n",
       "      <th>17</th>\n",
       "      <td>1171.464</td>\n",
       "      <td>0.4004</td>\n",
       "      <td>41.8586</td>\n",
       "      <td>185.2866</td>\n",
       "    </tr>\n",
       "    <tr>\n",
       "      <th>18</th>\n",
       "      <td>1127.428</td>\n",
       "      <td>0.4011</td>\n",
       "      <td>40.0971</td>\n",
       "      <td>184.1857</td>\n",
       "    </tr>\n",
       "    <tr>\n",
       "      <th>19</th>\n",
       "      <td>1045.885</td>\n",
       "      <td>0.4023</td>\n",
       "      <td>36.8354</td>\n",
       "      <td>182.1471</td>\n",
       "    </tr>\n",
       "  </tbody>\n",
       "</table>\n",
       "</div>"
      ],
      "text/plain": [
       "         rpm    fuel    power    torque\n",
       "0   1118.947  0.4012  39.7579  183.9737\n",
       "1   1186.295  0.4002  42.4518  185.6574\n",
       "2   1112.972  0.4013  39.5189  183.8243\n",
       "3   1066.492  0.4020  37.6597  182.6623\n",
       "4   1025.479  0.4026  36.0192  181.6370\n",
       "5   1101.402  0.4015  39.0561  183.5351\n",
       "6   1197.919  0.4000  42.9168  185.9480\n",
       "7   1127.092  0.4011  40.0837  184.1773\n",
       "8   1158.589  0.4006  41.3436  184.9647\n",
       "9   1008.692  0.4029  35.3477  181.2173\n",
       "10  1099.262  0.4015  38.9705  183.4815\n",
       "11  1167.871  0.4005  41.7148  185.1968\n",
       "12  1170.576  0.4004  41.8230  185.2644\n",
       "13  1083.049  0.4018  38.3220  183.0762\n",
       "14  1077.856  0.4018  38.1142  182.9464\n",
       "15  1021.884  0.4027  35.8754  181.5471\n",
       "16  1085.375  0.4017  38.4150  183.1344\n",
       "17  1171.464  0.4004  41.8586  185.2866\n",
       "18  1127.428  0.4011  40.0971  184.1857\n",
       "19  1045.885  0.4023  36.8354  182.1471"
      ]
     },
     "execution_count": 13,
     "metadata": {},
     "output_type": "execute_result"
    }
   ],
   "source": [
    "df.head(20)"
   ]
  },
  {
   "cell_type": "code",
   "execution_count": 14,
   "metadata": {
    "colab": {
     "base_uri": "https://localhost:8080/",
     "height": 202
    },
    "id": "Jb2fjbRAGRkM",
    "outputId": "3b7f5ce6-65c6-4812-b922-fb5c4baba00d"
   },
   "outputs": [
    {
     "data": {
      "text/html": [
       "<div>\n",
       "<style scoped>\n",
       "    .dataframe tbody tr th:only-of-type {\n",
       "        vertical-align: middle;\n",
       "    }\n",
       "\n",
       "    .dataframe tbody tr th {\n",
       "        vertical-align: top;\n",
       "    }\n",
       "\n",
       "    .dataframe thead th {\n",
       "        text-align: right;\n",
       "    }\n",
       "</style>\n",
       "<table border=\"1\" class=\"dataframe\">\n",
       "  <thead>\n",
       "    <tr style=\"text-align: right;\">\n",
       "      <th></th>\n",
       "      <th>rpm</th>\n",
       "      <th>fuel</th>\n",
       "      <th>power</th>\n",
       "      <th>torque</th>\n",
       "    </tr>\n",
       "  </thead>\n",
       "  <tbody>\n",
       "    <tr>\n",
       "      <th>0</th>\n",
       "      <td>1118.298</td>\n",
       "      <td>244.8170</td>\n",
       "      <td>29.5489</td>\n",
       "      <td>249.1404</td>\n",
       "    </tr>\n",
       "    <tr>\n",
       "      <th>1</th>\n",
       "      <td>1102.898</td>\n",
       "      <td>244.9710</td>\n",
       "      <td>29.0869</td>\n",
       "      <td>248.6014</td>\n",
       "    </tr>\n",
       "    <tr>\n",
       "      <th>2</th>\n",
       "      <td>1148.538</td>\n",
       "      <td>244.5146</td>\n",
       "      <td>30.4561</td>\n",
       "      <td>250.1988</td>\n",
       "    </tr>\n",
       "    <tr>\n",
       "      <th>3</th>\n",
       "      <td>1051.599</td>\n",
       "      <td>245.4840</td>\n",
       "      <td>27.5480</td>\n",
       "      <td>246.8060</td>\n",
       "    </tr>\n",
       "    <tr>\n",
       "      <th>4</th>\n",
       "      <td>1154.488</td>\n",
       "      <td>244.4551</td>\n",
       "      <td>30.6346</td>\n",
       "      <td>250.4071</td>\n",
       "    </tr>\n",
       "  </tbody>\n",
       "</table>\n",
       "</div>"
      ],
      "text/plain": [
       "        rpm      fuel    power    torque\n",
       "0  1118.298  244.8170  29.5489  249.1404\n",
       "1  1102.898  244.9710  29.0869  248.6014\n",
       "2  1148.538  244.5146  30.4561  250.1988\n",
       "3  1051.599  245.4840  27.5480  246.8060\n",
       "4  1154.488  244.4551  30.6346  250.4071"
      ]
     },
     "execution_count": 14,
     "metadata": {},
     "output_type": "execute_result"
    }
   ],
   "source": [
    "df2.head()"
   ]
  }
 ],
 "metadata": {
  "colab": {
   "name": "data_prepare.ipynb",
   "provenance": []
  },
  "kernelspec": {
   "display_name": "Python 3",
   "language": "python",
   "name": "python3"
  },
  "language_info": {
   "codemirror_mode": {
    "name": "ipython",
    "version": 3
   },
   "file_extension": ".py",
   "mimetype": "text/x-python",
   "name": "python",
   "nbconvert_exporter": "python",
   "pygments_lexer": "ipython3",
   "version": "3.9.0"
  }
 },
 "nbformat": 4,
 "nbformat_minor": 1
}
