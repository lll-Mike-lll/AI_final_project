{
 "cells": [
  {
   "cell_type": "code",
   "execution_count": 24,
   "metadata": {},
   "outputs": [],
   "source": [
    "import numpy as np\n",
    "import matplotlib.pyplot as plt"
   ]
  },
  {
   "cell_type": "code",
   "execution_count": 5,
   "metadata": {},
   "outputs": [
    {
     "name": "stdout",
     "output_type": "stream",
     "text": [
      "(1000, 2)\n"
     ]
    }
   ],
   "source": [
    "observations = 1000\n",
    "\n",
    "xs = np.random.uniform(low=-10, high=10, size=(observations,1))\n",
    "zs = np.random.uniform(-10, 10, (observations,1))\n",
    "\n",
    "inputs = np.column_stack((xs,zs))\n",
    "print (inputs.shape)"
   ]
  },
  {
   "cell_type": "code",
   "execution_count": 16,
   "metadata": {
    "scrolled": true
   },
   "outputs": [
    {
     "name": "stdout",
     "output_type": "stream",
     "text": [
      "(1000, 1)\n"
     ]
    }
   ],
   "source": [
    "noise = np.random.uniform(-1, 1, (observations,1))\n",
    "targets = 2*xs - 3*zs + 5 + noise\n",
    "print (targets.shape)\n",
    "# targets"
   ]
  },
  {
   "cell_type": "code",
   "execution_count": 19,
   "metadata": {},
   "outputs": [
    {
     "name": "stdout",
     "output_type": "stream",
     "text": [
      "[[ 0.08262672]\n",
      " [-0.0326664 ]]\n",
      "[0.02392672]\n"
     ]
    }
   ],
   "source": [
    "init_range = 0.1\n",
    "\n",
    "weights = np.random.uniform(low=-init_range, high=init_range, size=(2, 1))\n",
    "biases = np.random.uniform(low=-init_range, high=init_range, size=1)\n",
    "print (weights)\n",
    "print (biases)"
   ]
  },
  {
   "cell_type": "code",
   "execution_count": 20,
   "metadata": {},
   "outputs": [],
   "source": [
    "learning_rate = 0.02"
   ]
  },
  {
   "cell_type": "code",
   "execution_count": 21,
   "metadata": {
    "scrolled": true
   },
   "outputs": [
    {
     "name": "stdout",
     "output_type": "stream",
     "text": [
      "227.08333919593926\n",
      "32.50260543137271\n",
      "13.602829634692268\n",
      "11.398315592481117\n",
      "10.795073781867139\n",
      "10.359459476901158\n",
      "9.954740138596243\n",
      "9.567339999333308\n",
      "9.195400387477134\n",
      "8.838197809264429\n",
      "8.495138233705957\n",
      "8.165660724350932\n",
      "7.849227462453346\n",
      "7.545322008347956\n",
      "7.253448376787311\n",
      "6.973130219697618\n",
      "6.703910048021965\n",
      "6.445348485011695\n",
      "6.197023549141455\n",
      "5.958529965419918\n",
      "5.729478503966753\n",
      "5.509495344775823\n",
      "5.29822146762784\n",
      "5.095312066156792\n",
      "4.900435985113891\n",
      "4.7132751799106005\n",
      "4.533524197558726\n",
      "4.360889678160458\n",
      "4.195089876134729\n",
      "4.03585420039856\n",
      "3.882922772752956\n",
      "3.7360460037525627\n",
      "3.5949841853669593\n",
      "3.4595070997687616\n",
      "3.329393643610067\n",
      "3.204431467174037\n",
      "3.0844166278127396\n",
      "2.969153257105594\n",
      "2.8584532411952464\n",
      "2.7521359137791785\n",
      "2.650027761255975\n",
      "2.5519621395450343\n",
      "2.4577790021176105\n",
      "2.3673246387952678\n",
      "2.2804514248894856\n",
      "2.197017580272992\n",
      "2.1168869379896478\n",
      "2.039928722025183\n",
      "1.9660173338761837\n",
      "1.8950321475689176\n",
      "1.826857312793538\n",
      "1.7613815658323042\n",
      "1.6984980479733145\n",
      "1.638104131113331\n",
      "1.5801012502651337\n",
      "1.5243947426960012\n",
      "1.4708936934348185\n",
      "1.419510786895668\n",
      "1.3701621643757174\n",
      "1.3227672871949012\n",
      "1.2772488052539588\n",
      "1.233532430796374\n",
      "1.1915468171681458\n",
      "1.1512234423775611\n",
      "1.112496497264895\n",
      "1.0753027780995608\n",
      "1.0395815834294129\n",
      "1.0052746150138452\n",
      "0.9723258826790236\n",
      "0.9406816129399612\n",
      "0.9102901612403081\n",
      "0.8811019276666254\n",
      "0.8530692759995917\n",
      "0.8261464559700246\n",
      "0.8002895285928363\n",
      "0.775456294457078\n",
      "0.7516062248550152\n",
      "0.7287003956378622\n",
      "0.7067014236902096\n",
      "0.685573405919465\n",
      "0.6652818606607552\n",
      "0.6457936714016381\n",
      "0.6270770327347934\n",
      "0.6091013984504898\n",
      "0.5918374316840932\n",
      "0.575256957037283\n",
      "0.5593329145948098\n",
      "0.5440393157617723\n",
      "0.5293512008493151\n",
      "0.5152445983395453\n",
      "0.5016964857631736\n",
      "0.4886847521260409\n",
      "0.4761881618231996\n",
      "0.464186319981662\n",
      "0.45265963917525653\n",
      "0.4415893074572605\n",
      "0.4309572576586412\n",
      "0.4207461379018101\n",
      "0.410939283281744\n",
      "0.40152068866828267\n"
     ]
    }
   ],
   "source": [
    "for i in range (100):\n",
    "    outputs = np.dot(inputs,weights) + biases\n",
    "    deltas = outputs - targets\n",
    "    loss = np.sum(deltas ** 2) / 2 / observations\n",
    "    print (loss)\n",
    "    deltas_scaled = deltas / observations\n",
    "    weights = weights - learning_rate * np.dot(inputs.T,deltas_scaled)\n",
    "    biases = biases - learning_rate * np.sum(deltas_scaled)"
   ]
  },
  {
   "cell_type": "code",
   "execution_count": 22,
   "metadata": {},
   "outputs": [
    {
     "name": "stdout",
     "output_type": "stream",
     "text": [
      "[[ 1.99432049]\n",
      " [-3.00079985]] [4.34713928]\n"
     ]
    }
   ],
   "source": [
    "print (weights, biases)"
   ]
  },
  {
   "cell_type": "code",
   "execution_count": 25,
   "metadata": {},
   "outputs": [
    {
     "data": {
      "image/png": "[encoded data removed]",
      "text/plain": [
       "<Figure size 432x288 with 1 Axes>"
      ]
     },
     "metadata": {
      "needs_background": "light"
     },
     "output_type": "display_data"
    }
   ],
   "source": [
    "plt.plot(outputs,targets)\n",
    "plt.xlabel('outputs')\n",
    "plt.ylabel('targets')\n",
    "plt.show()"
   ]
  },
  {
   "cell_type": "code",
   "execution_count": null,
   "metadata": {},
   "outputs": [],
   "source": []
  }
 ],
 "metadata": {
  "kernelspec": {
   "display_name": "Python 3",
   "language": "python",
   "name": "python3"
  },
  "language_info": {
   "codemirror_mode": {
    "name": "ipython",
    "version": 3
   },
   "file_extension": ".py",
   "mimetype": "text/x-python",
   "name": "python",
   "nbconvert_exporter": "python",
   "pygments_lexer": "ipython3",
   "version": "3.9.0"
  }
 },
 "nbformat": 4,
 "nbformat_minor": 4
}
